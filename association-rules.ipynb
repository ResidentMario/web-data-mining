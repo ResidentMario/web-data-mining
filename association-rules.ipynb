{
 "cells": [
  {
   "cell_type": "markdown",
   "metadata": {
    "collapsed": true
   },
   "source": [
    "* Previously we generated frequent itemsets using the apriori algorithm. Now we use that to build association rules.\n",
    "* Note that, similarly to downwards closure, if $(f - \\alpha) \\to \\alpha$ has a certain minimum support then $(f - \\alpha_{sub}) \\to a_{sub}$ also has that support, because naturally if ${A, B} \\to {C, D}$ has a certain amount of support then ${A, B, C} \\to {D}$ does likewise.\n",
    "* This allows us to work backwards. if ${A, B} \\to {C}$ and ${A, B} \\to {D}$ then perhaps ${A, B} \\to {C, D}$; but if not ${A, B} \\to {E}$ then never ${A, B} \\to {C, E}$!\n",
    "* We call $\\alpha$ the **consequent**.\n",
    "* The likelihood that the presence of one set will lead to the additional presence of another is **confidence**, $P(B|A)$."
   ]
  },
  {
   "cell_type": "code",
   "execution_count": null,
   "metadata": {
    "collapsed": true
   },
   "outputs": [],
   "source": []
  }
 ],
 "metadata": {
  "kernelspec": {
   "display_name": "Python 3",
   "language": "python",
   "name": "python3"
  },
  "language_info": {
   "codemirror_mode": {
    "name": "ipython",
    "version": 3
   },
   "file_extension": ".py",
   "mimetype": "text/x-python",
   "name": "python",
   "nbconvert_exporter": "python",
   "pygments_lexer": "ipython3",
   "version": "3.5.1"
  }
 },
 "nbformat": 4,
 "nbformat_minor": 0
}
