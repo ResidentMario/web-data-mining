{
 "cells": [
  {
   "cell_type": "markdown",
   "metadata": {},
   "source": [
    "* Association rules, market basket analysis, itemsets.\n",
    "* The **support** of X is the percentage of transactions in the dataset containing X. A rule with low support is not useful because it dedicates resources to chasing a small-impact target.\n",
    "* The **confidence** is the percentage of transactions containing X also containing Y, e.g. the confidence that one item in a transaction will lead to another.\n",
    "* Useful rules subscribe to a certain **minimum support** and **minimum confidence**.\n",
    "* The simplest algorithm for generating association rules is the apriori algorithm.\n",
    "* **Downwards closure property**: every non-empty subset of an itemset with certain minimum support will also have that minimum support.\n",
    "* Downwards closure is used in the implementation of the **apriori algorithm**, one efficient implementation of simple association rule selection.\n",
    "* On the kth pass apriori takes all of the prior generated itemsets deemed frequent and constructs all possible further itemsets. Then it reads the transactions and creates a running tally of possible further itemsets.\n",
    "* This is an example of a **level-wise search**."
   ]
  },
  {
   "cell_type": "code",
   "execution_count": 1,
   "metadata": {
    "collapsed": false
   },
   "outputs": [],
   "source": [
    "import apriori"
   ]
  },
  {
   "cell_type": "code",
   "execution_count": 2,
   "metadata": {
    "collapsed": false
   },
   "outputs": [],
   "source": [
    "# apriori.init_pass(\"75000-out1.csv\", 0.1)[0]"
   ]
  },
  {
   "cell_type": "code",
   "execution_count": 3,
   "metadata": {
    "collapsed": false
   },
   "outputs": [],
   "source": [
    "# Set: [[7], [28], [45]]\n",
    "# apriori.candidate_gen(apriori.init_pass(\"75000-out1.csv\", 0.1)[0])"
   ]
  },
  {
   "cell_type": "code",
   "execution_count": 4,
   "metadata": {
    "collapsed": false
   },
   "outputs": [
    {
     "name": "stderr",
     "output_type": "stream",
     "text": []
    },
    {
     "data": {
      "text/plain": [
       "[[0],\n",
       " [1],\n",
       " [2],\n",
       " [3],\n",
       " [4],\n",
       " [5],\n",
       " [6],\n",
       " [7],\n",
       " [8],\n",
       " [9],\n",
       " [10],\n",
       " [11],\n",
       " [12],\n",
       " [13],\n",
       " [14],\n",
       " [15],\n",
       " [16],\n",
       " [17],\n",
       " [18],\n",
       " [19],\n",
       " [20],\n",
       " [21],\n",
       " [22],\n",
       " [23],\n",
       " [24],\n",
       " [25],\n",
       " [26],\n",
       " [27],\n",
       " [28],\n",
       " [29],\n",
       " [30],\n",
       " [31],\n",
       " [32],\n",
       " [33],\n",
       " [34],\n",
       " [35],\n",
       " [36],\n",
       " [37],\n",
       " [38],\n",
       " [39],\n",
       " [40],\n",
       " [41],\n",
       " [42],\n",
       " [43],\n",
       " [44],\n",
       " [45],\n",
       " [46],\n",
       " [47],\n",
       " [48],\n",
       " [49],\n",
       " [3, 35],\n",
       " [7, 15],\n",
       " [23, 40],\n",
       " [41, 43],\n",
       " [24, 40],\n",
       " [16, 45],\n",
       " [7, 49],\n",
       " [12, 31],\n",
       " [29, 47],\n",
       " [11, 45],\n",
       " [0, 2],\n",
       " [7, 11],\n",
       " [31, 36],\n",
       " [33, 42],\n",
       " [17, 47],\n",
       " [2, 46],\n",
       " [7, 45],\n",
       " [31, 48],\n",
       " [37, 45],\n",
       " [23, 41],\n",
       " [40, 41],\n",
       " [7, 37],\n",
       " [27, 28],\n",
       " [15, 49],\n",
       " [32, 45],\n",
       " [16, 32],\n",
       " [1, 19],\n",
       " [0, 46],\n",
       " [36, 48],\n",
       " [23, 43],\n",
       " [40, 43],\n",
       " [24, 41],\n",
       " [18, 35],\n",
       " [3, 18],\n",
       " [17, 29],\n",
       " [12, 36],\n",
       " [24, 43],\n",
       " [23, 24],\n",
       " [12, 48],\n",
       " [14, 44],\n",
       " [4, 9],\n",
       " [5, 22],\n",
       " [11, 37],\n",
       " [12, 31, 48],\n",
       " [7, 15, 49],\n",
       " [24, 40, 41],\n",
       " [23, 24, 40],\n",
       " [40, 41, 43],\n",
       " [17, 29, 47],\n",
       " [23, 40, 43],\n",
       " [23, 24, 41],\n",
       " [16, 32, 45],\n",
       " [31, 36, 48],\n",
       " [24, 41, 43],\n",
       " [7, 37, 45],\n",
       " [23, 24, 43],\n",
       " [11, 37, 45],\n",
       " [3, 18, 35],\n",
       " [7, 11, 45],\n",
       " [12, 31, 36],\n",
       " [0, 2, 46],\n",
       " [7, 11, 37],\n",
       " [12, 36, 48],\n",
       " [24, 40, 43],\n",
       " [23, 41, 43],\n",
       " [23, 40, 41],\n",
       " [7, 11, 37, 45],\n",
       " [23, 24, 41, 43],\n",
       " [24, 40, 41, 43],\n",
       " [12, 31, 36, 48],\n",
       " [23, 24, 40, 43],\n",
       " [23, 24, 40, 41],\n",
       " [23, 40, 41, 43],\n",
       " [23, 24, 40, 41, 43]]"
      ]
     },
     "execution_count": 4,
     "metadata": {},
     "output_type": "execute_result"
    }
   ],
   "source": [
    "# The following call runs the apriori algorithm with a minimum support of 1%.\n",
    "apriori.apriori(\"75000-out1.csv\", 0.01)"
   ]
  },
  {
   "cell_type": "code",
   "execution_count": 5,
   "metadata": {
    "collapsed": false
   },
   "outputs": [
    {
     "data": {
      "text/plain": [
       "[[7, 15, 49],\n",
       " [7, 15, 45],\n",
       " [23, 40, 41],\n",
       " [16, 32, 45],\n",
       " [7, 45, 49],\n",
       " [0, 2, 46],\n",
       " [7, 11, 45],\n",
       " [31, 36, 48],\n",
       " [7, 37, 45]]"
      ]
     },
     "execution_count": 5,
     "metadata": {},
     "output_type": "execute_result"
    }
   ],
   "source": [
    "apriori.candidate_gen(\n",
    " [[3, 35],\n",
    " [7, 15],\n",
    " [23, 40],\n",
    " [41, 43],\n",
    " [24, 40],\n",
    " [16, 45],\n",
    " [7, 49],\n",
    " [12, 31],\n",
    " [29, 47],\n",
    " [11, 45],\n",
    " [0, 2],\n",
    " [7, 11],\n",
    " [31, 36],\n",
    " [33, 42],\n",
    " [17, 47],\n",
    " [2, 46],\n",
    " [7, 45],\n",
    " [31, 48],\n",
    " [37, 45],\n",
    " [23, 41],\n",
    " [40, 41],\n",
    " [7, 37],\n",
    " [27, 28],\n",
    " [15, 49],\n",
    " [32, 45],\n",
    " [16, 32],\n",
    " [1, 19],\n",
    " [0, 46]])"
   ]
  }
 ],
 "metadata": {
  "kernelspec": {
   "display_name": "Python 3",
   "language": "python",
   "name": "python3"
  },
  "language_info": {
   "codemirror_mode": {
    "name": "ipython",
    "version": 3
   },
   "file_extension": ".py",
   "mimetype": "text/x-python",
   "name": "python",
   "nbconvert_exporter": "python",
   "pygments_lexer": "ipython3",
   "version": "3.5.1"
  }
 },
 "nbformat": 4,
 "nbformat_minor": 0
}
